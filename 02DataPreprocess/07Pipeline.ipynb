{
 "cells": [
  {
   "cell_type": "markdown",
   "metadata": {
    "id": "BuD533H3K4ed"
   },
   "source": [
    "# Pipeline\n",
    "파이프라인은 여러 변환 단계를 정확한 순서대로 실행할 수 있도록 하는 것이다. \n",
    "\n",
    "사이킷런은 연속된 변환을 순서대로 처리할 수 있도록 도와주는 Pipeline 클래스가 있다."
   ]
  },
  {
   "cell_type": "code",
   "execution_count": 1,
   "metadata": {
    "id": "0DD3_Z_5UFcs"
   },
   "outputs": [],
   "source": [
    "from sklearn.pipeline import Pipeline\n",
    "from sklearn.preprocessing import StandardScaler\n",
    "from sklearn.impute import SimpleImputer\n",
    "from sklearn.preprocessing import StandardScaler, OneHotEncoder\n",
    "import numpy as np"
   ]
  },
  {
   "cell_type": "markdown",
   "metadata": {
    "id": "ax0Zmk3M1UT9"
   },
   "source": [
    "### Define Pipeline"
   ]
  },
  {
   "cell_type": "code",
   "execution_count": null,
   "metadata": {
    "id": "k4wr5lGYBHje"
   },
   "outputs": [],
   "source": [
    "# 버전이 낮아 SimpleImputer 를 사용할 수 없으면  Imputer을 사용한다.\n",
    "\n",
    "from sklearn.preprocessing import Imputer\n",
    "\n",
    "num_pipeline = Pipeline([\n",
    "                         ('imputer', Imputer(strategy=\"median\")),\n",
    "                         ('std_scaler', StandardScaler())\n",
    "])"
   ]
  },
  {
   "cell_type": "code",
   "execution_count": 3,
   "metadata": {
    "id": "wDBtcS3hofhf"
   },
   "outputs": [],
   "source": [
    "num_pipeline = Pipeline([\n",
    "                         ('imputer', SimpleImputer(strategy=\"median\")),\n",
    "                         ('std_scaler', StandardScaler())\n",
    "])\n"
   ]
  },
  {
   "cell_type": "code",
   "execution_count": 4,
   "metadata": {
    "colab": {
     "base_uri": "https://localhost:8080/"
    },
    "id": "6dyFSvCDEjUA",
    "outputId": "5c8a2242-af86-405a-adbb-e73721e9d911"
   },
   "outputs": [
    {
     "name": "stdout",
     "output_type": "stream",
     "text": [
      "[[10.]\n",
      " [20.]\n",
      " [30.]\n",
      " [40.]\n",
      " [50.]\n",
      " [nan]]\n",
      "[[-1.54919334]\n",
      " [-0.77459667]\n",
      " [ 0.        ]\n",
      " [ 0.77459667]\n",
      " [ 1.54919334]\n",
      " [ 0.        ]]\n"
     ]
    }
   ],
   "source": [
    "# sample test data\n",
    "test_data = np.array([10,20,30,40,50,np.nan]).reshape(-1,1)\n",
    "print(test_data)\n",
    "\n",
    "x = num_pipeline.fit_transform(test_data)\n",
    "\n",
    "print(x)"
   ]
  },
  {
   "cell_type": "markdown",
   "metadata": {
    "id": "YzzS2ULE1s-r"
   },
   "source": [
    "### Pipeline Example\n",
    "\n",
    "파이프라인 실습에 필요한 임의의 데이터를 생성한다.\n"
   ]
  },
  {
   "cell_type": "code",
   "execution_count": 5,
   "metadata": {
    "colab": {
     "base_uri": "https://localhost:8080/",
     "height": 142
    },
    "id": "f-OCu0JMwGUw",
    "outputId": "b438feff-dcb1-42cf-890b-ec7b6292c89a"
   },
   "outputs": [
    {
     "data": {
      "text/html": [
       "<div>\n",
       "<style scoped>\n",
       "    .dataframe tbody tr th:only-of-type {\n",
       "        vertical-align: middle;\n",
       "    }\n",
       "\n",
       "    .dataframe tbody tr th {\n",
       "        vertical-align: top;\n",
       "    }\n",
       "\n",
       "    .dataframe thead th {\n",
       "        text-align: right;\n",
       "    }\n",
       "</style>\n",
       "<table border=\"1\" class=\"dataframe\">\n",
       "  <thead>\n",
       "    <tr style=\"text-align: right;\">\n",
       "      <th></th>\n",
       "      <th>A</th>\n",
       "      <th>B</th>\n",
       "      <th>C</th>\n",
       "      <th>D</th>\n",
       "    </tr>\n",
       "  </thead>\n",
       "  <tbody>\n",
       "    <tr>\n",
       "      <th>0</th>\n",
       "      <td>1.0</td>\n",
       "      <td>2.0</td>\n",
       "      <td>3.0</td>\n",
       "      <td>4.0</td>\n",
       "    </tr>\n",
       "    <tr>\n",
       "      <th>1</th>\n",
       "      <td>5.0</td>\n",
       "      <td>6.0</td>\n",
       "      <td>NaN</td>\n",
       "      <td>8.0</td>\n",
       "    </tr>\n",
       "    <tr>\n",
       "      <th>2</th>\n",
       "      <td>10.0</td>\n",
       "      <td>11.0</td>\n",
       "      <td>12.0</td>\n",
       "      <td>NaN</td>\n",
       "    </tr>\n",
       "  </tbody>\n",
       "</table>\n",
       "</div>"
      ],
      "text/plain": [
       "      A     B     C    D\n",
       "0   1.0   2.0   3.0  4.0\n",
       "1   5.0   6.0   NaN  8.0\n",
       "2  10.0  11.0  12.0  NaN"
      ]
     },
     "execution_count": 5,
     "metadata": {
      "tags": []
     },
     "output_type": "execute_result"
    }
   ],
   "source": [
    "import pandas as pd\n",
    "from io import StringIO\n",
    "\n",
    "csv_data = \\\n",
    "'''A,B,C,D\n",
    "1.0,2.0,3.0,4.0\n",
    "5.0,6.0,,8.0\n",
    "10.0,11.0,12.0,'''\n",
    "\n",
    "df = pd.read_csv(StringIO(csv_data))\n",
    "df"
   ]
  },
  {
   "cell_type": "code",
   "execution_count": 6,
   "metadata": {
    "colab": {
     "base_uri": "https://localhost:8080/"
    },
    "id": "BIMFOcsAEWlc",
    "outputId": "cee279b6-f42e-406e-feff-a0c9349a8ed0"
   },
   "outputs": [
    {
     "data": {
      "text/plain": [
       "array([[ 1.,  2.,  3.,  4.],\n",
       "       [ 5.,  6., nan,  8.],\n",
       "       [10., 11., 12., nan]])"
      ]
     },
     "execution_count": 6,
     "metadata": {
      "tags": []
     },
     "output_type": "execute_result"
    }
   ],
   "source": [
    "# numpy array 형태로 변환. df.to_numpy()\n",
    "df.values"
   ]
  },
  {
   "cell_type": "code",
   "execution_count": 7,
   "metadata": {
    "colab": {
     "base_uri": "https://localhost:8080/"
    },
    "id": "aJVnh1XXEgrw",
    "outputId": "1cfb61a2-54b0-40a6-ecd1-1bee2a293a9b"
   },
   "outputs": [
    {
     "name": "stdout",
     "output_type": "stream",
     "text": [
      "[[-1.1769647  -1.1769647  -1.22474487 -1.22474487]\n",
      " [-0.09053575 -0.09053575  0.          1.22474487]\n",
      " [ 1.26750044  1.26750044  1.22474487  0.        ]]\n"
     ]
    }
   ],
   "source": [
    "# fit_transform 메소드로 파이프라인을 활용한 변환을 수행한다.\n",
    "transformed = num_pipeline.fit_transform(df.values)\n",
    "print(transformed)"
   ]
  },
  {
   "cell_type": "code",
   "execution_count": 8,
   "metadata": {
    "colab": {
     "base_uri": "https://localhost:8080/"
    },
    "id": "QyvS3J9-HIhh",
    "outputId": "d60769cb-d7f2-414f-ce1e-6ae50fe4db47"
   },
   "outputs": [
    {
     "data": {
      "text/plain": [
       "[('imputer', SimpleImputer(add_indicator=False, copy=True, fill_value=None,\n",
       "                missing_values=nan, strategy='median', verbose=0)),\n",
       " ('std_scaler', StandardScaler(copy=True, with_mean=True, with_std=True))]"
      ]
     },
     "execution_count": 8,
     "metadata": {
      "tags": []
     },
     "output_type": "execute_result"
    }
   ],
   "source": [
    "# 개별적인 파이프라인의 단계를 확인할 수 있다.\n",
    "num_pipeline.steps"
   ]
  },
  {
   "cell_type": "code",
   "execution_count": 9,
   "metadata": {
    "colab": {
     "base_uri": "https://localhost:8080/"
    },
    "id": "ztRem80cHS-4",
    "outputId": "91144bd7-5195-42cd-c115-cf9a72b0e04a"
   },
   "outputs": [
    {
     "data": {
      "text/plain": [
       "('imputer', SimpleImputer(add_indicator=False, copy=True, fill_value=None,\n",
       "               missing_values=nan, strategy='median', verbose=0))"
      ]
     },
     "execution_count": 9,
     "metadata": {
      "tags": []
     },
     "output_type": "execute_result"
    }
   ],
   "source": [
    "num_pipeline.steps[0]"
   ]
  },
  {
   "cell_type": "code",
   "execution_count": 10,
   "metadata": {
    "colab": {
     "base_uri": "https://localhost:8080/"
    },
    "id": "rT4oAgIlHKSf",
    "outputId": "eeb0ff0a-4da7-4de9-9f34-63cf7d8f9857"
   },
   "outputs": [
    {
     "data": {
      "text/plain": [
       "Pipeline(memory=None,\n",
       "         steps=[('imputer',\n",
       "                 SimpleImputer(add_indicator=False, copy=True, fill_value=None,\n",
       "                               missing_values=nan, strategy='mean',\n",
       "                               verbose=0)),\n",
       "                ('std_scaler',\n",
       "                 StandardScaler(copy=True, with_mean=True, with_std=True))],\n",
       "         verbose=False)"
      ]
     },
     "execution_count": 10,
     "metadata": {
      "tags": []
     },
     "output_type": "execute_result"
    }
   ],
   "source": [
    "# 개별 변환단계의 일부 옵션 파라미터를 수정할 수 있다.\n",
    "num_pipeline.set_params(imputer__strategy='mean')  # 결측치 대체 방법 변경한다."
   ]
  },
  {
   "cell_type": "code",
   "execution_count": 11,
   "metadata": {
    "colab": {
     "base_uri": "https://localhost:8080/"
    },
    "id": "OPW4JzMIIiQR",
    "outputId": "0c2db41e-d3a9-4cce-efce-13b274e00695"
   },
   "outputs": [
    {
     "name": "stdout",
     "output_type": "stream",
     "text": [
      "[[-1.1769647  -1.1769647  -1.22474487 -1.22474487]\n",
      " [-0.09053575 -0.09053575  0.          1.22474487]\n",
      " [ 1.26750044  1.26750044  1.22474487  0.        ]]\n"
     ]
    }
   ],
   "source": [
    "transformed = num_pipeline.fit_transform(df.values)\n",
    "print(transformed)"
   ]
  },
  {
   "cell_type": "markdown",
   "metadata": {
    "id": "YZsOZbINF-Ro"
   },
   "source": [
    "## iris 데이터셋을 활용한 실습\n",
    "iris dataset을 표준화하고 로지스틱 회귀모형을 통해 분류 모형을 생성한다.\n",
    "파이프라인을 사용하면 전처리에서 부터 모형 생성을 포함할 수 있다."
   ]
  },
  {
   "cell_type": "code",
   "execution_count": 12,
   "metadata": {
    "id": "rw-DmxdP3XOi"
   },
   "outputs": [],
   "source": [
    "from sklearn import datasets\n",
    "from sklearn.linear_model import LogisticRegression\n",
    "\n",
    "iris = datasets.load_iris()\n",
    "features = iris.data\n",
    "target = iris.target"
   ]
  },
  {
   "cell_type": "code",
   "execution_count": 13,
   "metadata": {
    "id": "nzzTuE-T30v5"
   },
   "outputs": [],
   "source": [
    "pipe = Pipeline([\n",
    "                 (\"std_scaler\", StandardScaler()),\n",
    "                 (\"classifier\", LogisticRegression())\n",
    "])"
   ]
  },
  {
   "cell_type": "markdown",
   "metadata": {
    "id": "Sy39fPT8Gt6d"
   },
   "source": [
    "iris 데이터셋을 훈련데이터와 테스트데이터 셋으로 분리하고 fit 메소드를 사용하면 모델을 훈련할 수 있다."
   ]
  },
  {
   "cell_type": "code",
   "execution_count": 14,
   "metadata": {
    "id": "M9kn2DxF450E"
   },
   "outputs": [],
   "source": [
    "from sklearn.model_selection import train_test_split\n",
    "\n",
    "X_train, X_test, y_train, y_test = train_test_split(\n",
    "    features, target, test_size =0.2, stratify=target) \n",
    "\n",
    "model = pipe.fit(X_train, y_train)"
   ]
  },
  {
   "cell_type": "markdown",
   "metadata": {
    "id": "aOuiBFFdG8kl"
   },
   "source": [
    "훈련된 모형에 새로운 임의의 데이터를 적용하여 분류가 되는지 확인해 본다."
   ]
  },
  {
   "cell_type": "code",
   "execution_count": 15,
   "metadata": {
    "colab": {
     "base_uri": "https://localhost:8080/"
    },
    "id": "z8Q0UNJB5Nje",
    "outputId": "b312cab4-fcf5-4a45-d703-95fe8c12358f"
   },
   "outputs": [
    {
     "name": "stdout",
     "output_type": "stream",
     "text": [
      "[0]\n",
      "[[7.06682904e-01 2.93282107e-01 3.49890555e-05]]\n"
     ]
    }
   ],
   "source": [
    "new_obs = [[0.5, 0.5, 0.5, 0.5]]\n",
    "print(pipe.predict(new_obs))\n",
    "print(pipe.predict_proba(new_obs))"
   ]
  }
 ],
 "metadata": {
  "colab": {
   "authorship_tag": "ABX9TyN5F8/+yZ/FzyEReN05wWhW",
   "collapsed_sections": [],
   "name": "Pipeline.ipynb",
   "provenance": []
  },
  "kernelspec": {
   "display_name": "Python 3 (ipykernel)",
   "language": "python",
   "name": "python3"
  },
  "language_info": {
   "codemirror_mode": {
    "name": "ipython",
    "version": 3
   },
   "file_extension": ".py",
   "mimetype": "text/x-python",
   "name": "python",
   "nbconvert_exporter": "python",
   "pygments_lexer": "ipython3",
   "version": "3.9.7"
  }
 },
 "nbformat": 4,
 "nbformat_minor": 1
}
